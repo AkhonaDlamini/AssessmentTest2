{
 "cells": [
  {
   "cell_type": "code",
   "execution_count": 1,
   "id": "b778e313-f1a9-4fd5-8635-748d507b8fab",
   "metadata": {},
   "outputs": [],
   "source": [
    "#SR 5: Complexity Analysis: (5 marks):\n",
    "#Choose one algorithm that you wrote in SR 4.1 or SR 4.2 to explain the time and space complexity of your implemented algorithms. \n",
    "#Explain the efficiency of the algorithms in terms of their Big-O notation. You must use a markdown cell for this question."
   ]
  },
  {
   "cell_type": "markdown",
   "id": "8a3779cc-5bb0-4907-ba2c-c7330b4db70e",
   "metadata": {},
   "source": [
    "Linear search\n",
    "the time complexity of linear search is O(n), where n is the number of elements in the list.\n",
    "This means that the time taken by the linear search algorithm increases linearly with the size of the array or list.\n",
    "As the size of the list doubles, the time taken by the algorithm also doubles.\n",
    "Linear search has a space complexity of O(1), which is constant space complexity.\n",
    "This is because the amount of memory used by the algorithm remains constant regardless of the size of the input list.\n",
    "The time complexity of O(n) indicates that linear search is not the most efficient algorithm for searching in large datasets.\n",
    "As the size of the input list grows, the time taken by linear search also grows linearly. This makes linear search inefficient for large datasets compared to algorithms with lower time complexities, such as binary search (O(log n)) or hash table lookup (O(1)).\n",
    "However, linear search is simple to implement and can be effective for small datasets or when the list is not sorted."
   ]
  }
 ],
 "metadata": {
  "kernelspec": {
   "display_name": "Python 3 (ipykernel)",
   "language": "python",
   "name": "python3"
  },
  "language_info": {
   "codemirror_mode": {
    "name": "ipython",
    "version": 3
   },
   "file_extension": ".py",
   "mimetype": "text/x-python",
   "name": "python",
   "nbconvert_exporter": "python",
   "pygments_lexer": "ipython3",
   "version": "3.12.2"
  }
 },
 "nbformat": 4,
 "nbformat_minor": 5
}
