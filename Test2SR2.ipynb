{
 "cells": [
  {
   "cell_type": "code",
   "execution_count": 2,
   "id": "a4a2c741-cd7c-44d2-b5c7-2fa941311bc0",
   "metadata": {},
   "outputs": [],
   "source": [
    "import pandas as pd #To load and analyse the dataset"
   ]
  },
  {
   "cell_type": "code",
   "execution_count": 3,
   "id": "73c581c5-976f-4a31-82e2-b29a520f97e0",
   "metadata": {},
   "outputs": [],
   "source": [
    "#Load dataset\n",
    "settlement = pd.read_csv('Informal_Settlement_Programme_-1898186875815614491.csv')"
   ]
  },
  {
   "cell_type": "code",
   "execution_count": 4,
   "id": "3ae6cc31-a5c8-4754-a36b-8425dd7f95ec",
   "metadata": {},
   "outputs": [
    {
     "name": "stdout",
     "output_type": "stream",
     "text": [
      "Dataset size: 10188\n"
     ]
    }
   ],
   "source": [
    "#Understanding the size of the dataset\n",
    "print(\"Dataset size:\",settlement.size)"
   ]
  },
  {
   "cell_type": "code",
   "execution_count": 5,
   "id": "1d284a25-e740-4a77-96e8-ab9c66ff3b06",
   "metadata": {},
   "outputs": [
    {
     "name": "stdout",
     "output_type": "stream",
     "text": [
      "Dataset data types:\n"
     ]
    },
    {
     "data": {
      "text/plain": [
       "OBJECTID           int64\n",
       "NAME_OF_SE        object\n",
       "ALT_NAME          object\n",
       "STREETNAME        object\n",
       "WARD_S            object\n",
       "PLANNING_U        object\n",
       "LATITUDE          object\n",
       "LONGITUDE         object\n",
       "REGION            object\n",
       "WATER_SUPP        object\n",
       "SANITATION        object\n",
       "REFUSE            object\n",
       "ELECTRIC_2        object\n",
       "UNIREFCODE        object\n",
       "EST_HHC            int64\n",
       "NUSP_CAT          object\n",
       "Shape__Area      float64\n",
       "Shape__Length    float64\n",
       "dtype: object"
      ]
     },
     "execution_count": 5,
     "metadata": {},
     "output_type": "execute_result"
    }
   ],
   "source": [
    "#Data types\n",
    "print(\"Dataset data types:\")\n",
    "settlement.dtypes"
   ]
  },
  {
   "cell_type": "code",
   "execution_count": 6,
   "id": "834fac16-8759-4c3a-99e6-09e4314af4e1",
   "metadata": {},
   "outputs": [
    {
     "data": {
      "text/plain": [
       "Index(['OBJECTID', 'NAME_OF_SE', 'ALT_NAME', 'STREETNAME', 'WARD_S',\n",
       "       'PLANNING_U', 'LATITUDE', 'LONGITUDE', 'REGION', 'WATER_SUPP',\n",
       "       'SANITATION', 'REFUSE', 'ELECTRIC_2', 'UNIREFCODE', 'EST_HHC',\n",
       "       'NUSP_CAT', 'Shape__Area', 'Shape__Length'],\n",
       "      dtype='object')"
      ]
     },
     "execution_count": 6,
     "metadata": {},
     "output_type": "execute_result"
    }
   ],
   "source": [
    "#Columns\n",
    "settlement.columns"
   ]
  },
  {
   "cell_type": "code",
   "execution_count": 7,
   "id": "c9b650b6-bf11-4bbb-9738-bc3ad450c4ac",
   "metadata": {},
   "outputs": [
    {
     "name": "stdout",
     "output_type": "stream",
     "text": [
      "   OBJECTID     NAME_OF_SE       ALT_NAME  \\\n",
      "0         1       Amatikwe                  \n",
      "1         2  Congo Phase 2  Congo Phase 2   \n",
      "2         3  Africa Inanda         Africa   \n",
      "3         4        Namibia                  \n",
      "4         5     Mshayazafe                  \n",
      "\n",
      "                               STREETNAME  WARD_S  \\\n",
      "0                              MR93 North  56/108   \n",
      "1                        MR93 /MR93 North   55/57   \n",
      "2                  Curnick Ndlovu Highway      55   \n",
      "3  Curnick Ndlovu Highway / Matshana Road  108/44   \n",
      "4                            Sidudla Road      55   \n",
      "\n",
      "                      PLANNING_U           LATITUDE         LONGITUDE  \\\n",
      "0                       Amatikwe  -29,6847594568261  30,9331993743659   \n",
      "1                   Inanda Congo  -29,6930565996813  30,9524428875002   \n",
      "2        Ohlange-Africa / Stop 8   -29,700492743755  30,9486579023242   \n",
      "3                 Inanda Namibia   -29,703771886581  30,9335017254606   \n",
      "4  Mshayazafe / Ohlange - Africa  -29,7066784039778  30,9469610275001   \n",
      "\n",
      "     REGION                           WATER_SUPP  \\\n",
      "0  Northern                           Standpipes   \n",
      "1  Northern                           Standpipes   \n",
      "2  Northern  Ablution Facility Taps & Standpipes   \n",
      "3  Northern  Ablution Facility Taps & Standpipes   \n",
      "4  Northern                           Standpipes   \n",
      "\n",
      "                        SANITATION           REFUSE ELECTRIC_2 UNIREFCODE  \\\n",
      "0                      Pit Privies  C&SW contractor        Yes      I0005   \n",
      "1  Ablution Facility & Pit Privies  C&SW contractor        Yes      I0037   \n",
      "2                Ablution Facility  C&SW contractor        Yes      I0002   \n",
      "3                Ablution Facility  C&SW contractor        Yes      I0145   \n",
      "4                      Pit Privies  C&SW contractor        Yes      I0140   \n",
      "\n",
      "   EST_HHC NUSP_CAT   Shape__Area  Shape__Length  \n",
      "0     3250       B1  2.393433e+06   22801.689196  \n",
      "1      758       B1  2.894931e+05    4460.071000  \n",
      "2      627       B1  2.831338e+05    2289.974147  \n",
      "3     1508       B1  6.782034e+05    3987.698818  \n",
      "4      349       B1  1.393780e+05    1965.577993  \n"
     ]
    }
   ],
   "source": [
    "#Rows : I will print the first five rows\n",
    "print(settlement.head())"
   ]
  },
  {
   "cell_type": "code",
   "execution_count": 8,
   "id": "6e20c5ad-154c-48fe-b65d-7a2e01a812ae",
   "metadata": {},
   "outputs": [
    {
     "name": "stdout",
     "output_type": "stream",
     "text": [
      "OBJECTID                                       2\n",
      "NAME_OF_SE                         Congo Phase 2\n",
      "ALT_NAME                           Congo Phase 2\n",
      "STREETNAME                      MR93 /MR93 North\n",
      "WARD_S                                     55/57\n",
      "PLANNING_U                          Inanda Congo\n",
      "LATITUDE                       -29,6930565996813\n",
      "LONGITUDE                       30,9524428875002\n",
      "REGION                                  Northern\n",
      "WATER_SUPP                            Standpipes\n",
      "SANITATION       Ablution Facility & Pit Privies\n",
      "REFUSE                           C&SW contractor\n",
      "ELECTRIC_2                                   Yes\n",
      "UNIREFCODE                                 I0037\n",
      "EST_HHC                                      758\n",
      "NUSP_CAT                                      B1\n",
      "Shape__Area                        289493.051003\n",
      "Shape__Length                           4460.071\n",
      "Name: 1, dtype: object\n"
     ]
    }
   ],
   "source": [
    "#Data slicing and indexing of the dataset as a whole\n",
    "#Indexing and diplaying row at index 1 \n",
    "row1 = settlement.iloc[1]\n",
    "print(row1)"
   ]
  },
  {
   "cell_type": "code",
   "execution_count": 9,
   "id": "ac1a035a-eba3-40ad-a997-bceb43fa7128",
   "metadata": {},
   "outputs": [
    {
     "name": "stdout",
     "output_type": "stream",
     "text": [
      "  WARD_S       STREETNAME\n",
      "5  44/43  Ithendele Drive\n",
      "6  44/43    121829 Street\n"
     ]
    }
   ],
   "source": [
    "#Indexing rows and columns at row 5 to 6 and column named 'WARD_S', and 'STREETNAME'\n",
    "ward = settlement.loc[5:6,['WARD_S','STREETNAME']]\n",
    "print(ward)"
   ]
  },
  {
   "cell_type": "code",
   "execution_count": 10,
   "id": "3faac418-bacc-4dac-b952-e0bbf05b0371",
   "metadata": {},
   "outputs": [
    {
     "name": "stdout",
     "output_type": "stream",
     "text": [
      "     OBJECTID                              NAME_OF_SE         ALT_NAME  \\\n",
      "2           3                           Africa Inanda           Africa   \n",
      "3           4                                 Namibia                    \n",
      "12         13                         Richmond Farm A                    \n",
      "15         16                              Parkington       Thandanani   \n",
      "16         17                                 Gwala's      Gwalas farm   \n",
      "..        ...                                     ...              ...   \n",
      "536       537  KwaCutshwayo (Coffee-Farm phase 2) Ext  Sandton Phase 2   \n",
      "540       541                       Mpola Phase 2 Ext    Mpola Phase 2   \n",
      "545       546                    Dassenhoek - Block F                    \n",
      "558       559                               Lindelani                    \n",
      "565       566                                  Soweto                    \n",
      "\n",
      "                                 STREETNAME  WARD_S  \\\n",
      "2                    Curnick Ndlovu Highway      55   \n",
      "3    Curnick Ndlovu Highway / Matshana Road  108/44   \n",
      "12              Dukuza Road / Ingcebo Drive      38   \n",
      "15     Parkington Grove / Park Station Road      34   \n",
      "16         Douglas Place / Saunders` Circle      34   \n",
      "..                                      ...     ...   \n",
      "536                                   MR518      12   \n",
      "540           200213 Street / 201191 Street      15   \n",
      "545                         Bhekisizwe Road   14/12   \n",
      "558                     Ntuzuma - Main Road   43/38   \n",
      "565     Thirty Third Avenue / Clermont Road      92   \n",
      "\n",
      "                    PLANNING_U           LATITUDE         LONGITUDE    REGION  \\\n",
      "2      Ohlange-Africa / Stop 8   -29,700492743755  30,9486579023242  Northern   \n",
      "3               Inanda Namibia   -29,703771886581  30,9335017254606  Northern   \n",
      "12   Ntuzuma - A / Ntuzuma - C  -29,7466633962258  30,9357411787946  Northern   \n",
      "15                    Kenville   -29,783257408305  31,0103712783198  Northern   \n",
      "16               Tongaat South  -29,5763196627174  31,0763481663072  Northern   \n",
      "..                         ...                ...               ...       ...   \n",
      "536                KwaNdengezi  -29,8573594296265  30,7823752510001   Western   \n",
      "540         Tshelimnyama-Mpola  -29,8474882764602  30,8124599007501   Western   \n",
      "545                 Dassenhoek  -29,8564366372406  30,7929381294639   Western   \n",
      "558      Ntuzuma - D-Lindelani  -29,7336554825059  30,9297101865001  Northern   \n",
      "565           Clermont Emngeni  -29,7954645668291  30,9075593857641   Western   \n",
      "\n",
      "                              WATER_SUPP                       SANITATION  \\\n",
      "2    Ablution Facility Taps & Standpipes                Ablution Facility   \n",
      "3    Ablution Facility Taps & Standpipes                Ablution Facility   \n",
      "12   Ablution Facility Taps & Standpipes                Ablution Facility   \n",
      "15   Ablution Facility Taps & Standpipes                Ablution Facility   \n",
      "16   Ablution Facility Taps & Standpipes                Ablution Facility   \n",
      "..                                   ...                              ...   \n",
      "536  Ablution Facility Taps & Standpipes                Ablution Facility   \n",
      "540  Ablution Facility Taps & Standpipes  Ablution facility & Pit Privies   \n",
      "545  Ablution Facility Taps & Standpipes                Ablution Facility   \n",
      "558  Ablution Facility Taps & Standpipes  Ablution Facility & Pit Privies   \n",
      "565  Ablution Facility Taps & Standpipes                Ablution Facility   \n",
      "\n",
      "              REFUSE ELECTRIC_2 UNIREFCODE  EST_HHC NUSP_CAT    Shape__Area  \\\n",
      "2    C&SW contractor        Yes      I0002      627       B1  283133.847541   \n",
      "3    C&SW contractor        Yes      I0145     1508       B1  678203.426504   \n",
      "12   C&SW contractor        Yes      I0172      291       B1   86605.694441   \n",
      "15   C&SW contractor    Planned      I0156      268       B1   19483.684410   \n",
      "16   C&SW contractor        Yes      I0084      308       B1  101094.568094   \n",
      "..               ...        ...        ...      ...      ...            ...   \n",
      "536  C&SW contractor    Planned      I0100      938       B1  670016.206123   \n",
      "540  C&SW contractor        Yes      I0137      976       B1  329085.096581   \n",
      "545  C&SW contractor        Yes      I0046      882       B1  486934.375340   \n",
      "558  C&SW contractor        Yes      I0113     1222       B1  251045.603256   \n",
      "565  C&SW contractor        Yes      I0191      337       B1   42760.458141   \n",
      "\n",
      "     Shape__Length  \n",
      "2      2289.974147  \n",
      "3      3987.698818  \n",
      "12     1975.878867  \n",
      "15      875.255926  \n",
      "16     4927.223254  \n",
      "..             ...  \n",
      "536   14768.435942  \n",
      "540   14605.797682  \n",
      "545    6625.706346  \n",
      "558   10359.747461  \n",
      "565    1931.699760  \n",
      "\n",
      "[105 rows x 18 columns]\n"
     ]
    }
   ],
   "source": [
    "#Slicing:Filtering rows where longitude is greater than 30 and water supply is equal to 'Ablution Facility Taps & Standpipes'\n",
    "filtered_df = settlement[(settlement['Shape__Length'] > 30) & (settlement['WATER_SUPP'] == 'Ablution Facility Taps & Standpipes')]\n",
    "print(filtered_df)"
   ]
  },
  {
   "cell_type": "code",
   "execution_count": 11,
   "id": "eeebb654-9f14-4a63-9eba-11837d56c2bf",
   "metadata": {},
   "outputs": [],
   "source": [
    "#Data cleaning"
   ]
  },
  {
   "cell_type": "code",
   "execution_count": 12,
   "id": "c18c9e8f-2cf7-4384-b7ab-302a2b7a531f",
   "metadata": {},
   "outputs": [
    {
     "name": "stdout",
     "output_type": "stream",
     "text": [
      "OBJECTID         0\n",
      "NAME_OF_SE       0\n",
      "ALT_NAME         4\n",
      "STREETNAME       0\n",
      "WARD_S           0\n",
      "PLANNING_U       0\n",
      "LATITUDE         0\n",
      "LONGITUDE        0\n",
      "REGION           0\n",
      "WATER_SUPP       0\n",
      "SANITATION       0\n",
      "REFUSE           0\n",
      "ELECTRIC_2       0\n",
      "UNIREFCODE       0\n",
      "EST_HHC          0\n",
      "NUSP_CAT         0\n",
      "Shape__Area      0\n",
      "Shape__Length    0\n",
      "dtype: int64\n"
     ]
    }
   ],
   "source": [
    "#Identifying missing data\n",
    "missing_data = settlement.isnull().sum()\n",
    "print(missing_data)"
   ]
  },
  {
   "cell_type": "code",
   "execution_count": 13,
   "id": "36a564d7-b920-4478-a04b-b7e361780781",
   "metadata": {},
   "outputs": [],
   "source": [
    "#Removing missing data\n",
    "settlement.dropna(inplace=True)"
   ]
  },
  {
   "cell_type": "code",
   "execution_count": 14,
   "id": "d0f00462-59c5-4543-8443-07d48197ef53",
   "metadata": {},
   "outputs": [
    {
     "name": "stdout",
     "output_type": "stream",
     "text": [
      "OBJECTID         0\n",
      "NAME_OF_SE       0\n",
      "ALT_NAME         0\n",
      "STREETNAME       0\n",
      "WARD_S           0\n",
      "PLANNING_U       0\n",
      "LATITUDE         0\n",
      "LONGITUDE        0\n",
      "REGION           0\n",
      "WATER_SUPP       0\n",
      "SANITATION       0\n",
      "REFUSE           0\n",
      "ELECTRIC_2       0\n",
      "UNIREFCODE       0\n",
      "EST_HHC          0\n",
      "NUSP_CAT         0\n",
      "Shape__Area      0\n",
      "Shape__Length    0\n",
      "dtype: int64\n"
     ]
    }
   ],
   "source": [
    "#Finding duplicates\n",
    "duplicates = settlement.isnull().sum()\n",
    "print(duplicates)"
   ]
  },
  {
   "cell_type": "code",
   "execution_count": 16,
   "id": "1ba30c50-6087-49c0-b2d2-658458ebde53",
   "metadata": {},
   "outputs": [],
   "source": [
    "# Describe the Data Types in Relation to Machine Learning using markdown"
   ]
  },
  {
   "cell_type": "markdown",
   "id": "195450ef-cb11-4d0f-b8b2-70336a1e05da",
   "metadata": {},
   "source": [
    "Column: Longitude\n",
    "Data Type:\n",
    "It is continuous data under numerical data. It is represented in a floating-point number because it can take any value within a specific range including decimals.\n",
    "\n",
    "Usage in Machine Learning:\n",
    "Regression models - Longitude is used to predict outcomes based on geographic location.\n",
    "Clustering - Longitude along with latitude helps with identifying clusters or patterns based on geographic coordinates.\n",
    "Geospatial Analysis - Longitude is important in spatial data analysis and geographic information systems for mapping and spatial querying.\n",
    "\n"
   ]
  }
 ],
 "metadata": {
  "kernelspec": {
   "display_name": "Python 3 (ipykernel)",
   "language": "python",
   "name": "python3"
  },
  "language_info": {
   "codemirror_mode": {
    "name": "ipython",
    "version": 3
   },
   "file_extension": ".py",
   "mimetype": "text/x-python",
   "name": "python",
   "nbconvert_exporter": "python",
   "pygments_lexer": "ipython3",
   "version": "3.12.2"
  }
 },
 "nbformat": 4,
 "nbformat_minor": 5
}
