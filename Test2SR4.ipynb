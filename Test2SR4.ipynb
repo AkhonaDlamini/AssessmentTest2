{
 "cells": [
  {
   "cell_type": "code",
   "execution_count": 11,
   "id": "12bb1f4a-7740-4c24-ac4a-bcfe6b1ea462",
   "metadata": {},
   "outputs": [],
   "source": [
    "import pandas as pd #For loading the csv file"
   ]
  },
  {
   "cell_type": "code",
   "execution_count": 12,
   "id": "84a6731b-bd6c-4a43-ba7b-33f822bc3856",
   "metadata": {},
   "outputs": [],
   "source": [
    "#SR 4.1: Algorithm Implementation: Sort algorithm (30 marks):\n",
    "#For optimization and performance purpose, implement any sort algorithm between bubble sort, insertion sort and selection to sort \n",
    "#any column in your dataset in either ascending or descending order (your choice). Use only ONE sort algorithm from the ones \n",
    "#mentioned. "
   ]
  },
  {
   "cell_type": "code",
   "execution_count": 13,
   "id": "35d9d9d3-23b3-4243-9d02-f7dbc5140b03",
   "metadata": {},
   "outputs": [],
   "source": [
    "#Load dataset\n",
    "settlement = pd.read_csv('Informal_Settlement_Programme_-1898186875815614491.csv')"
   ]
  },
  {
   "cell_type": "code",
   "execution_count": 14,
   "id": "4d6b2b0c-89d1-488d-8876-2320af5fd450",
   "metadata": {},
   "outputs": [
    {
     "name": "stdout",
     "output_type": "stream",
     "text": [
      "<class 'pandas.core.frame.DataFrame'>\n",
      "RangeIndex: 566 entries, 0 to 565\n",
      "Data columns (total 18 columns):\n",
      " #   Column         Non-Null Count  Dtype  \n",
      "---  ------         --------------  -----  \n",
      " 0   OBJECTID       566 non-null    int64  \n",
      " 1   NAME_OF_SE     566 non-null    object \n",
      " 2   ALT_NAME       562 non-null    object \n",
      " 3   STREETNAME     566 non-null    object \n",
      " 4   WARD_S         566 non-null    object \n",
      " 5   PLANNING_U     566 non-null    object \n",
      " 6   LATITUDE       566 non-null    object \n",
      " 7   LONGITUDE      566 non-null    object \n",
      " 8   REGION         566 non-null    object \n",
      " 9   WATER_SUPP     566 non-null    object \n",
      " 10  SANITATION     566 non-null    object \n",
      " 11  REFUSE         566 non-null    object \n",
      " 12  ELECTRIC_2     566 non-null    object \n",
      " 13  UNIREFCODE     566 non-null    object \n",
      " 14  EST_HHC        566 non-null    int64  \n",
      " 15  NUSP_CAT       566 non-null    object \n",
      " 16  Shape__Area    566 non-null    float64\n",
      " 17  Shape__Length  566 non-null    float64\n",
      "dtypes: float64(2), int64(2), object(14)\n",
      "memory usage: 79.7+ KB\n"
     ]
    }
   ],
   "source": [
    "settlement.info()"
   ]
  },
  {
   "cell_type": "code",
   "execution_count": 15,
   "id": "847b82d2-130b-4ca5-8faa-49250e0d5729",
   "metadata": {},
   "outputs": [
    {
     "data": {
      "text/plain": [
       "Index(['OBJECTID', 'NAME_OF_SE', 'ALT_NAME', 'STREETNAME', 'WARD_S',\n",
       "       'PLANNING_U', 'LATITUDE', 'LONGITUDE', 'REGION', 'WATER_SUPP',\n",
       "       'SANITATION', 'REFUSE', 'ELECTRIC_2', 'UNIREFCODE', 'EST_HHC',\n",
       "       'NUSP_CAT', 'Shape__Area', 'Shape__Length'],\n",
       "      dtype='object')"
      ]
     },
     "execution_count": 15,
     "metadata": {},
     "output_type": "execute_result"
    }
   ],
   "source": [
    "settlement.columns"
   ]
  },
  {
   "cell_type": "code",
   "execution_count": 16,
   "id": "e9c10996-17bd-48b8-b85f-32070c0884ff",
   "metadata": {},
   "outputs": [
    {
     "name": "stdout",
     "output_type": "stream",
     "text": [
      "[4, 4, 4, 5, 5, 5, 8, 8, 8, 10, 10, 11, 11, 12, 12, 12, 12, 13, 13, 13, 14, 14, 14, 15, 15, 16, 16, 16, 16, 16, 17, 18, 18, 19, 19, 20, 21, 21, 21, 21, 22, 22, 23, 23, 23, 23, 23, 23, 24, 24, 24, 24, 24, 25, 25, 25, 26, 26, 27, 27, 27, 27, 28, 28, 28, 28, 28, 29, 29, 29, 29, 29, 30, 30, 30, 31, 31, 31, 31, 31, 32, 33, 33, 33, 34, 34, 34, 35, 35, 35, 35, 35, 35, 35, 35, 36, 36, 37, 37, 39, 39, 40, 40, 40, 41, 41, 42, 42, 42, 43, 43, 44, 45, 46, 46, 46, 46, 46, 46, 47, 48, 48, 48, 49, 49, 49, 50, 50, 50, 51, 51, 52, 52, 53, 53, 54, 54, 54, 55, 55, 56, 56, 57, 57, 57, 57, 57, 57, 58, 59, 60, 60, 60, 60, 60, 61, 61, 61, 61, 62, 63, 63, 63, 64, 64, 65, 65, 65, 66, 67, 67, 67, 68, 68, 70, 70, 70, 72, 72, 72, 74, 74, 74, 75, 76, 77, 77, 79, 79, 79, 80, 80, 80, 81, 81, 82, 84, 84, 84, 85, 86, 86, 87, 88, 89, 89, 90, 92, 93, 93, 94, 97, 98, 99, 100, 100, 101, 102, 103, 104, 106, 106, 107, 107, 111, 111, 112, 115, 115, 115, 116, 116, 117, 117, 117, 119, 119, 121, 122, 122, 123, 126, 127, 128, 130, 130, 131, 134, 137, 137, 138, 138, 138, 139, 140, 141, 142, 142, 143, 143, 144, 150, 152, 153, 154, 157, 158, 159, 160, 160, 160, 162, 163, 163, 165, 166, 166, 167, 167, 173, 174, 175, 176, 178, 178, 179, 181, 183, 184, 185, 185, 185, 187, 187, 189, 190, 193, 194, 195, 195, 197, 199, 199, 200, 201, 202, 207, 207, 207, 212, 213, 215, 216, 216, 217, 218, 220, 222, 225, 231, 233, 233, 234, 235, 236, 238, 241, 242, 246, 247, 248, 248, 249, 250, 252, 254, 255, 257, 257, 258, 261, 262, 263, 264, 265, 266, 268, 268, 272, 273, 277, 279, 285, 291, 292, 294, 297, 299, 302, 304, 306, 306, 308, 309, 311, 312, 318, 321, 325, 337, 349, 351, 354, 358, 363, 363, 367, 370, 375, 376, 376, 379, 379, 381, 382, 385, 389, 394, 394, 395, 397, 402, 407, 414, 416, 420, 439, 449, 450, 450, 452, 461, 471, 476, 488, 490, 504, 515, 520, 524, 539, 551, 552, 556, 564, 565, 565, 570, 573, 577, 586, 590, 594, 603, 610, 622, 626, 627, 637, 640, 642, 643, 646, 647, 652, 657, 664, 665, 673, 673, 680, 680, 681, 684, 689, 691, 700, 720, 739, 746, 755, 758, 770, 771, 795, 800, 807, 810, 813, 833, 843, 862, 877, 879, 882, 885, 905, 922, 932, 936, 938, 956, 958, 959, 976, 996, 1000, 1008, 1015, 1028, 1031, 1032, 1034, 1049, 1055, 1057, 1128, 1142, 1154, 1169, 1169, 1177, 1207, 1222, 1227, 1236, 1240, 1262, 1263, 1264, 1265, 1279, 1284, 1294, 1311, 1329, 1380, 1384, 1398, 1398, 1401, 1404, 1436, 1445, 1483, 1492, 1508, 1520, 1550, 1558, 1563, 1636, 1653, 1655, 1686, 1687, 1712, 1725, 1772, 1906, 1914, 1915, 1944, 1951, 1967, 2031, 2034, 2060, 2081, 2085, 2136, 2293, 2307, 2353, 2375, 2388, 2491, 2583, 2626, 2664, 2978, 3250, 3323, 3412, 3561, 3677, 3731, 3830, 3996, 4058, 4332, 4581, 5385, 7206, 9388, 10011]\n"
     ]
    }
   ],
   "source": [
    "def bubble_sort(household_count):\n",
    "\n",
    "    for i in range(0, len(household_count)-1):\n",
    "        for j in range(0, len(household_count)-1):\n",
    "            if household_count[j] > household_count[j+1]:\n",
    "                temp = household_count[j]\n",
    "                household_count[j] = household_count[j+1]\n",
    "                household_count[j+1] = temp\n",
    "    return household_count\n",
    "\n",
    "sorted_household_count = bubble_sort(settlement['EST_HHC'].tolist())\n",
    "print(sorted_household_count)"
   ]
  },
  {
   "cell_type": "code",
   "execution_count": 17,
   "id": "dffb9d37-3e69-49d2-b3b5-568596a705c2",
   "metadata": {},
   "outputs": [],
   "source": [
    "#SR 4.2: Algorithm Implementation: Search algorithm (20 marks):\n",
    "#Machine learning algorithms use inputs from the user in order to search for the best answer to provide to the user.\n",
    "#Many well known search engines such as Google, bing, and AI information generators such as chatgpt, jenni ai, etc uses search \n",
    "#algorithms in order to provide the best answer to the user. In this subject you have learned 2 searching algorithms namely linear\n",
    "#and binary search. \n",
    "#o\tExplain which of these algorithms performs faster and provide reasons using a markdown cell in your jupyter notebook. \t\t\t(6)\n",
    "#o\tWrite a python code that will search for a specific element in your dataset using both algorithms.\t"
   ]
  },
  {
   "cell_type": "markdown",
   "id": "0d461d01-f1a4-41fe-b94d-9acc902a649d",
   "metadata": {},
   "source": [
    "Binary search performs faster because it first sorts the array in either ascending or descending order before searching the target element which makes the process of searching faster and finding the element efficiently.\n",
    "Binary search divides the array in half with each comparison, eliminating half of the remaining elements with each step, avoiding unnecessary searching.\n",
    "There are also a few comparisons between the target element and the elements in the array since it is divided.\n",
    "Binary search has a time complexity of O(log n), where n is the number of elements in an array. O(log n) means as the size of the array increases, the time also increases logarithmically.\n",
    "Only single-dimensional arrays are searched using Binary search which is why they are faster meanwhile linear search searches both the single and multidimensional arrays.\n",
    "Binary search performs a single comparison at each step of the algorithm to determine whether to continue searching in the left or right half of the search space. "
   ]
  },
  {
   "cell_type": "code",
   "execution_count": 18,
   "id": "01547984-b5a6-4017-af32-8665e6f66b38",
   "metadata": {},
   "outputs": [
    {
     "data": {
      "text/plain": [
       "Index(['OBJECTID', 'NAME_OF_SE', 'ALT_NAME', 'STREETNAME', 'WARD_S',\n",
       "       'PLANNING_U', 'LATITUDE', 'LONGITUDE', 'REGION', 'WATER_SUPP',\n",
       "       'SANITATION', 'REFUSE', 'ELECTRIC_2', 'UNIREFCODE', 'EST_HHC',\n",
       "       'NUSP_CAT', 'Shape__Area', 'Shape__Length'],\n",
       "      dtype='object')"
      ]
     },
     "execution_count": 18,
     "metadata": {},
     "output_type": "execute_result"
    }
   ],
   "source": [
    "settlement.columns"
   ]
  },
  {
   "cell_type": "code",
   "execution_count": 19,
   "id": "f26869d3-3abf-4689-ba17-d5fd494efe74",
   "metadata": {},
   "outputs": [
    {
     "name": "stdout",
     "output_type": "stream",
     "text": [
      "Richmond Farm A was found in position 12\n"
     ]
    }
   ],
   "source": [
    "#Using linear search\n",
    "\n",
    "def linear_search(target,elements):\n",
    "\n",
    "    for e in range(len(elements)):\n",
    "        if target == elements[e]:\n",
    "          position = e\n",
    "          return position\n",
    "            \n",
    "target = 'Richmond Farm A'\n",
    "elements = settlement['NAME_OF_SE'].tolist()\n",
    "       \n",
    "result = linear_search(target,elements)\n",
    "print(target,\"was found in position\",result)\n"
   ]
  },
  {
   "cell_type": "code",
   "execution_count": 20,
   "id": "28a39e85-acc7-4dcd-8904-ebcb94173798",
   "metadata": {},
   "outputs": [
    {
     "name": "stdout",
     "output_type": "stream",
     "text": [
      "Found.\n"
     ]
    }
   ],
   "source": [
    "#Using binary search\n",
    "settlement['EST_HHC'].tolist().sort() #Sort list\n",
    "def binary_search(target,elements): #Inside the method is the target element and the list of elements to serach from\n",
    "\n",
    "    lower_bound = 0 #The lowest element\n",
    "    upper_bound = 0 #The largest element\n",
    "    \n",
    "    while lower_bound <= upper_bound:\n",
    "        mid = (lower_bound + upper_bound)//2\n",
    "\n",
    "        if elements[mid] == target:\n",
    "            return True\n",
    "        else:\n",
    "            if elements[mid] < target:\n",
    "                lower_bound = mid\n",
    "            else:\n",
    "                upper_bound = mid\n",
    "\n",
    "target = 3250\n",
    "elements = settlement['EST_HHC'].tolist()\n",
    "if binary_search(target,elements):\n",
    "    print(\"Found.\")\n",
    "else:\n",
    "    print(\"Not found.\")"
   ]
  }
 ],
 "metadata": {
  "kernelspec": {
   "display_name": "Python 3 (ipykernel)",
   "language": "python",
   "name": "python3"
  },
  "language_info": {
   "codemirror_mode": {
    "name": "ipython",
    "version": 3
   },
   "file_extension": ".py",
   "mimetype": "text/x-python",
   "name": "python",
   "nbconvert_exporter": "python",
   "pygments_lexer": "ipython3",
   "version": "3.12.2"
  }
 },
 "nbformat": 4,
 "nbformat_minor": 5
}
