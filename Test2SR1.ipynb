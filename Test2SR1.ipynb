{
 "cells": [
  {
   "cell_type": "markdown",
   "id": "beac5306-a55a-494b-9ddc-6ac84b94133a",
   "metadata": {},
   "source": [
    "This data was found on the Google Dataset Search. It is suitable for analyzing informal settlements because it has information on various aspects of informal settlements, such as water supply, electricity, and sanitation which are the key columns that provide information about the availability of water supply, electricity, and sanitation facilities, that are critical indicators of the living conditions in informal settlements. The data is directly related to informal settlements which is our theme. Sourced from Google dataset search engine the dataset is reliable and credible because Google dataset search combines datasets from different trusted sources such as government organizations, academic institutions, and international agencies. These entities are known for their rigorous data collection and validation processes. Examples of some of the entities are the World Bank, NASA, etc. Google Dataset Search itself is a tool provided by Google, a company known for its reliable data services. This adds a layer of trustworthiness to the datasets indexed by this service."
   ]
  }
 ],
 "metadata": {
  "kernelspec": {
   "display_name": "Python 3 (ipykernel)",
   "language": "python",
   "name": "python3"
  },
  "language_info": {
   "codemirror_mode": {
    "name": "ipython",
    "version": 3
   },
   "file_extension": ".py",
   "mimetype": "text/x-python",
   "name": "python",
   "nbconvert_exporter": "python",
   "pygments_lexer": "ipython3",
   "version": "3.12.2"
  }
 },
 "nbformat": 4,
 "nbformat_minor": 5
}
